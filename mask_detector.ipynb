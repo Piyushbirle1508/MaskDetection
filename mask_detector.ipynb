{
  "cells": [
    {
      "cell_type": "code",
      "execution_count": 3,
      "metadata": {
        "id": "gRo9eduLgsUW"
      },
      "outputs": [],
      "source": [
        "# import the necessary packages\n",
        "import tensorflow\n",
        "from tensorflow.keras.preprocessing.image import ImageDataGenerator\n",
        "from tensorflow.keras.applications import MobileNetV2\n",
        "from tensorflow.keras.layers import AveragePooling2D\n",
        "from tensorflow.keras import layers, models\n",
        "from tensorflow.keras.layers import Dropout\n",
        "from tensorflow.keras.layers import Flatten\n",
        "from tensorflow.keras.layers import Dense\n",
        "from tensorflow.keras.layers import Input\n",
        "from tensorflow.keras.models import Model\n",
        "from tensorflow.keras.optimizers import Adam\n",
        "from tensorflow.keras.applications.mobilenet_v2 import preprocess_input\n",
        "from tensorflow.keras.preprocessing.image import img_to_array\n",
        "from tensorflow.keras.preprocessing.image import load_img\n",
        "from tensorflow.keras.utils import to_categorical\n",
        "from sklearn.preprocessing import LabelBinarizer\n",
        "from sklearn.model_selection import train_test_split\n",
        "from sklearn.metrics import classification_report\n",
        "from imutils import paths\n",
        "import matplotlib.pyplot as plt\n",
        "import numpy as np\n",
        "import os"
      ]
    },
    {
      "cell_type": "code",
      "execution_count": 4,
      "metadata": {
        "id": "aaeh6iusiQ6z"
      },
      "outputs": [],
      "source": [
        "# initialize the initial learning rate, number of epochs to train for,\n",
        "# and batch size\n",
        "INIT_LR = 1e-4\n",
        "EPOCHS = 20\n",
        "BS = 32"
      ]
    },
    {
      "cell_type": "code",
      "execution_count": 9,
      "metadata": {
        "id": "LVa6PgWhiT3_"
      },
      "outputs": [],
      "source": [
        "DIRECTORY = r\"mask\\MaskDetection\\dataset\"\n",
        "CATEGORIES = [\"with_mask\", \"without_mask\"]"
      ]
    },
    {
      "cell_type": "code",
      "execution_count": 10,
      "metadata": {
        "colab": {
          "base_uri": "https://localhost:8080/"
        },
        "id": "5Tp3hnojiZ6-",
        "outputId": "3599ef67-2424-49dc-8068-ed291979590c"
      },
      "outputs": [
        {
          "name": "stdout",
          "output_type": "stream",
          "text": [
            "[INFO] loading images...\n"
          ]
        }
      ],
      "source": [
        "# grab the list of images in our dataset directory, then initialize\n",
        "# the list of data (i.e., images) and class images\n",
        "print(\"[INFO] loading images...\")"
      ]
    },
    {
      "cell_type": "code",
      "execution_count": 11,
      "metadata": {
        "id": "3azv0zHIicnL"
      },
      "outputs": [
        {
          "ename": "FileNotFoundError",
          "evalue": "[WinError 3] The system cannot find the path specified: 'mask\\\\MaskDetection\\\\dataset\\\\with_mask'",
          "output_type": "error",
          "traceback": [
            "\u001b[1;31m---------------------------------------------------------------------------\u001b[0m",
            "\u001b[1;31mFileNotFoundError\u001b[0m                         Traceback (most recent call last)",
            "\u001b[1;32md:\\mask\\MaskDetection\\mask_detector.ipynb Cell 5\u001b[0m line \u001b[0;36m5\n\u001b[0;32m      <a href='vscode-notebook-cell:/d%3A/mask/MaskDetection/mask_detector.ipynb#W4sZmlsZQ%3D%3D?line=2'>3</a>\u001b[0m \u001b[39mfor\u001b[39;00m category \u001b[39min\u001b[39;00m CATEGORIES:\n\u001b[0;32m      <a href='vscode-notebook-cell:/d%3A/mask/MaskDetection/mask_detector.ipynb#W4sZmlsZQ%3D%3D?line=3'>4</a>\u001b[0m \tpath \u001b[39m=\u001b[39m os\u001b[39m.\u001b[39mpath\u001b[39m.\u001b[39mjoin(DIRECTORY, category)\n\u001b[1;32m----> <a href='vscode-notebook-cell:/d%3A/mask/MaskDetection/mask_detector.ipynb#W4sZmlsZQ%3D%3D?line=4'>5</a>\u001b[0m \t\u001b[39mfor\u001b[39;00m img \u001b[39min\u001b[39;00m os\u001b[39m.\u001b[39;49mlistdir(path):\n\u001b[0;32m      <a href='vscode-notebook-cell:/d%3A/mask/MaskDetection/mask_detector.ipynb#W4sZmlsZQ%3D%3D?line=5'>6</a>\u001b[0m \t\timg_path \u001b[39m=\u001b[39m os\u001b[39m.\u001b[39mpath\u001b[39m.\u001b[39mjoin(path, img)\n\u001b[0;32m      <a href='vscode-notebook-cell:/d%3A/mask/MaskDetection/mask_detector.ipynb#W4sZmlsZQ%3D%3D?line=6'>7</a>\u001b[0m \t\timage \u001b[39m=\u001b[39m load_img(img_path, target_size\u001b[39m=\u001b[39m(\u001b[39m224\u001b[39m, \u001b[39m224\u001b[39m))\n",
            "\u001b[1;31mFileNotFoundError\u001b[0m: [WinError 3] The system cannot find the path specified: 'mask\\\\MaskDetection\\\\dataset\\\\with_mask'"
          ]
        }
      ],
      "source": [
        "data = []\n",
        "labels = []\n",
        "for category in CATEGORIES:\n",
        "\tpath = os.path.join(DIRECTORY, category)\n",
        "\tfor img in os.listdir(path):\n",
        "\t\timg_path = os.path.join(path, img)\n",
        "\t\timage = load_img(img_path, target_size=(224, 224))\n",
        "\t\timage = img_to_array(image)\n",
        "\t\timage = preprocess_input(image)\n",
        "\t\t\n",
        "\t\tdata.append(image)\n",
        "\t\tlabels.append(category)\n",
        "\n",
        "# perform one-hot encoding on the labels\n",
        "lb = LabelBinarizer()\n",
        "labels = lb.fit_transform(labels)\n",
        "labels = to_categorical(labels)\n",
        "\n",
        "data = np.array(data, dtype=\"float32\")\n",
        "labels = np.array(labels)\n",
        "\n",
        "(trainX, testX, trainY, testY) = train_test_split(data, labels,\n",
        "\ttest_size=0.20, stratify=labels, random_state=42)"
      ]
    },
    {
      "cell_type": "code",
      "execution_count": 27,
      "metadata": {
        "id": "DQ8-mqe4jPH2"
      },
      "outputs": [],
      "source": [
        "# construct the training image generator for data augmentation\n",
        "aug = ImageDataGenerator(\n",
        "\trotation_range=20,\n",
        "\tzoom_range=0.15,\n",
        "\twidth_shift_range=0.2,\n",
        "\theight_shift_range=0.2,\n",
        "\tshear_range=0.15,\n",
        "\thorizontal_flip=True,\n",
        "\tfill_mode=\"nearest\")"
      ]
    },
    {
      "cell_type": "code",
      "execution_count": 28,
      "metadata": {
        "colab": {
          "base_uri": "https://localhost:8080/"
        },
        "id": "CfAEbB18jWqA",
        "outputId": "567166dc-4038-43d7-d4b5-4052e5071e11"
      },
      "outputs": [
        {
          "name": "stderr",
          "output_type": "stream",
          "text": [
            "WARNING:tensorflow:`input_shape` is undefined or non-square, or `rows` is not in [96, 128, 160, 192, 224]. Weights for input shape (224, 224) will be loaded as the default.\n"
          ]
        }
      ],
      "source": [
        "# load the MobileNetV2 network, ensuring the head FC layer sets are\n",
        "# left off\n",
        "baseModel = MobileNetV2(weights=\"imagenet\", include_top=False,\n",
        "\tinput_tensor=Input(shape=(224, 224, 3)))\n",
        "\n",
        "# construct the head of the model that will be placed on top of the\n",
        "# the base model\n",
        "headModel = baseModel.output\n",
        "headModel = AveragePooling2D(pool_size=(7, 7))(headModel)\n",
        "headModel = Flatten(name=\"flatten\")(headModel)\n",
        "headModel = Dense(128, activation=\"relu\")(headModel)\n",
        "headModel = Dropout(0.5)(headModel)\n",
        "headModel = Dense(2, activation=\"softmax\")(headModel)\n",
        "\n",
        "# place the head FC model on top of the base model (this will become\n",
        "# the actual model we will train)\n",
        "model = Model(inputs=baseModel.input, outputs=headModel)\n",
        "\n",
        "# loop over all layers in the base model and freeze them so they will\n",
        "# *not* be updated during the first training process\n",
        "for layer in baseModel.layers:\n",
        "\tlayer.trainable = False"
      ]
    },
    {
      "cell_type": "code",
      "execution_count": 33,
      "metadata": {
        "colab": {
          "base_uri": "https://localhost:8080/"
        },
        "id": "fDNspcDMkHBS",
        "outputId": "c0412c25-b86b-4ea1-c2fd-b033af899a98"
      },
      "outputs": [
        {
          "name": "stdout",
          "output_type": "stream",
          "text": [
            "[INFO] compiling model...\n",
            "[INFO] training head...\n",
            "Epoch 1/20\n",
            "19/19 [==============================] - 25s 1s/step - loss: 0.7120 - accuracy: 0.6403 - val_loss: 0.4909 - val_accuracy: 0.7962\n",
            "Epoch 2/20\n",
            "19/19 [==============================] - 20s 1s/step - loss: 0.4860 - accuracy: 0.8252 - val_loss: 0.3434 - val_accuracy: 0.9299\n",
            "Epoch 3/20\n",
            "19/19 [==============================] - 21s 1s/step - loss: 0.3211 - accuracy: 0.9143 - val_loss: 0.2680 - val_accuracy: 0.9490\n",
            "Epoch 4/20\n",
            "19/19 [==============================] - 22s 1s/step - loss: 0.2804 - accuracy: 0.9227 - val_loss: 0.2192 - val_accuracy: 0.9618\n",
            "Epoch 5/20\n",
            "19/19 [==============================] - 22s 1s/step - loss: 0.2183 - accuracy: 0.9513 - val_loss: 0.1894 - val_accuracy: 0.9618\n",
            "Epoch 6/20\n",
            "19/19 [==============================] - 20s 1s/step - loss: 0.1886 - accuracy: 0.9513 - val_loss: 0.1638 - val_accuracy: 0.9682\n",
            "Epoch 7/20\n",
            "19/19 [==============================] - 21s 1s/step - loss: 0.1475 - accuracy: 0.9664 - val_loss: 0.1428 - val_accuracy: 0.9745\n",
            "Epoch 8/20\n",
            "19/19 [==============================] - 21s 1s/step - loss: 0.1743 - accuracy: 0.9563 - val_loss: 0.1319 - val_accuracy: 0.9745\n",
            "Epoch 9/20\n",
            "19/19 [==============================] - 21s 1s/step - loss: 0.1368 - accuracy: 0.9563 - val_loss: 0.1231 - val_accuracy: 0.9745\n",
            "Epoch 10/20\n",
            "19/19 [==============================] - 21s 1s/step - loss: 0.1198 - accuracy: 0.9748 - val_loss: 0.1130 - val_accuracy: 0.9745\n",
            "Epoch 11/20\n",
            "19/19 [==============================] - 21s 1s/step - loss: 0.1101 - accuracy: 0.9748 - val_loss: 0.1057 - val_accuracy: 0.9809\n",
            "Epoch 12/20\n",
            "19/19 [==============================] - 21s 1s/step - loss: 0.1055 - accuracy: 0.9714 - val_loss: 0.1021 - val_accuracy: 0.9745\n",
            "Epoch 13/20\n",
            "19/19 [==============================] - 22s 1s/step - loss: 0.1003 - accuracy: 0.9731 - val_loss: 0.0992 - val_accuracy: 0.9745\n",
            "Epoch 14/20\n",
            "19/19 [==============================] - 21s 1s/step - loss: 0.0975 - accuracy: 0.9714 - val_loss: 0.0923 - val_accuracy: 0.9745\n",
            "Epoch 15/20\n",
            "19/19 [==============================] - 21s 1s/step - loss: 0.0656 - accuracy: 0.9916 - val_loss: 0.0890 - val_accuracy: 0.9745\n",
            "Epoch 16/20\n",
            "19/19 [==============================] - 22s 1s/step - loss: 0.0828 - accuracy: 0.9782 - val_loss: 0.0883 - val_accuracy: 0.9745\n",
            "Epoch 17/20\n",
            "19/19 [==============================] - 21s 1s/step - loss: 0.0736 - accuracy: 0.9849 - val_loss: 0.0830 - val_accuracy: 0.9745\n",
            "Epoch 18/20\n",
            "19/19 [==============================] - 21s 1s/step - loss: 0.0747 - accuracy: 0.9832 - val_loss: 0.0812 - val_accuracy: 0.9745\n",
            "Epoch 19/20\n",
            "19/19 [==============================] - 20s 1s/step - loss: 0.0600 - accuracy: 0.9866 - val_loss: 0.0818 - val_accuracy: 0.9745\n",
            "Epoch 20/20\n",
            "19/19 [==============================] - 21s 1s/step - loss: 0.0667 - accuracy: 0.9832 - val_loss: 0.0801 - val_accuracy: 0.9745\n"
          ]
        }
      ],
      "source": [
        "# compile our model\n",
        "print(\"[INFO] compiling model...\")\n",
        "# Use the legacy Adam optimizer because the decay argument is deprecated\n",
        "opt = tensorflow.keras.optimizers.legacy.Adam(learning_rate=INIT_LR)\n",
        "\n",
        "model.compile(loss=\"binary_crossentropy\", optimizer=opt, metrics=[\"accuracy\"])\n",
        "\n",
        "# train the head of the network\n",
        "print(\"[INFO] training head...\")\n",
        "H = model.fit(\n",
        "\taug.flow(trainX, trainY, batch_size=BS),\n",
        "\tsteps_per_epoch=len(trainX) // BS,\n",
        "\tvalidation_data=(testX, testY),\n",
        "\tvalidation_steps=len(testX) // BS,\n",
        "\tepochs=EPOCHS)"
      ]
    },
    {
      "cell_type": "code",
      "execution_count": 34,
      "metadata": {
        "colab": {
          "base_uri": "https://localhost:8080/"
        },
        "id": "yxMvWzx_kJdg",
        "outputId": "d698f21e-77a8-43c8-9cea-8d8bf3071ae8"
      },
      "outputs": [
        {
          "name": "stdout",
          "output_type": "stream",
          "text": [
            "[INFO] evaluating network...\n",
            "5/5 [==============================] - 4s 649ms/step\n",
            "              precision    recall  f1-score   support\n",
            "\n",
            "   with_mask       0.96      1.00      0.98        89\n",
            "without_mask       1.00      0.94      0.97        68\n",
            "\n",
            "    accuracy                           0.97       157\n",
            "   macro avg       0.98      0.97      0.97       157\n",
            "weighted avg       0.98      0.97      0.97       157\n",
            "\n",
            "[INFO] saving mask detector model...\n"
          ]
        },
        {
          "name": "stderr",
          "output_type": "stream",
          "text": [
            "/usr/local/lib/python3.10/dist-packages/keras/src/engine/training.py:3079: UserWarning: You are saving your model as an HDF5 file via `model.save()`. This file format is considered legacy. We recommend using instead the native Keras format, e.g. `model.save('my_model.keras')`.\n",
            "  saving_api.save_model(\n"
          ]
        }
      ],
      "source": [
        "# make predictions on the testing set\n",
        "print(\"[INFO] evaluating network...\")\n",
        "predIdxs = model.predict(testX, batch_size=BS)\n",
        "\n",
        "# for each image in the testing set we need to find the index of the\n",
        "# label with corresponding largest predicted probability\n",
        "predIdxs = np.argmax(predIdxs, axis=1)\n",
        "\n",
        "# show a nicely formatted classification report\n",
        "print(classification_report(testY.argmax(axis=1), predIdxs,\n",
        "\ttarget_names=lb.classes_))\n",
        "\n",
        "# serialize the model to disk\n",
        "print(\"[INFO] saving mask detector model...\")\n",
        "model.save(\"mask_detector.model\", save_format=\"h5\")"
      ]
    },
    {
      "cell_type": "code",
      "execution_count": 35,
      "metadata": {
        "colab": {
          "base_uri": "https://localhost:8080/",
          "height": 477
        },
        "id": "ppvKj3FEl1zD",
        "outputId": "2158ca95-8674-4546-e852-60fe124a59ac"
      },
      "outputs": [
        {
          "data": {
            "image/png": "[encoded data removed]",
            "text/plain": [
              "<Figure size 640x480 with 1 Axes>"
            ]
          },
          "metadata": {},
          "output_type": "display_data"
        }
      ],
      "source": [
        "# plot the training loss and accuracy\n",
        "N = EPOCHS\n",
        "plt.style.use(\"ggplot\")\n",
        "plt.figure()\n",
        "plt.plot(np.arange(0, N), H.history[\"loss\"], label=\"train_loss\")\n",
        "plt.plot(np.arange(0, N), H.history[\"val_loss\"], label=\"val_loss\")\n",
        "plt.plot(np.arange(0, N), H.history[\"accuracy\"], label=\"train_acc\")\n",
        "plt.plot(np.arange(0, N), H.history[\"val_accuracy\"], label=\"val_acc\")\n",
        "plt.title(\"Training Loss and Accuracy\")\n",
        "plt.xlabel(\"Epoch #\")\n",
        "plt.ylabel(\"Loss/Accuracy\")\n",
        "plt.legend(loc=\"lower left\")\n",
        "plt.savefig(\"plot.png\")"
      ]
    },
    {
      "cell_type": "code",
      "execution_count": null,
      "metadata": {
        "id": "e1xIb-zKEQiZ"
      },
      "outputs": [],
      "source": []
    }
  ],
  "metadata": {
    "colab": {
      "provenance": []
    },
    "kernelspec": {
      "display_name": "Python 3",
      "name": "python3"
    },
    "language_info": {
      "codemirror_mode": {
        "name": "ipython",
        "version": 3
      },
      "file_extension": ".py",
      "mimetype": "text/x-python",
      "name": "python",
      "nbconvert_exporter": "python",
      "pygments_lexer": "ipython3",
      "version": "3.10.0"
    }
  },
  "nbformat": 4,
  "nbformat_minor": 0
}
